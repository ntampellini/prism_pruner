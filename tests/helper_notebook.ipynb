{
 "cells": [
  {
   "cell_type": "code",
   "execution_count": 1,
   "id": "1a80c249",
   "metadata": {},
   "outputs": [
    {
     "data": {
      "text/plain": [
       "(1, 33, 3)"
      ]
     },
     "execution_count": 1,
     "metadata": {},
     "output_type": "execute_result"
    }
   ],
   "source": [
    "import os\n",
    "\n",
    "from prism_pruner.utils import read_xyz\n",
    "\n",
    "os.chdir(\"/home/Coding\")\n",
    "\n",
    "ensemble = read_xyz(\"t1.xyz\")\n",
    "ensemble.atomcoords.shape"
   ]
  },
  {
   "cell_type": "code",
   "execution_count": 2,
   "id": "dfe133c9",
   "metadata": {},
   "outputs": [],
   "source": [
    "from prism_pruner.graph_manipulations import graphize\n",
    "from prism_pruner.torsion_module import _get_rotation_mask, rotate_dihedral\n",
    "from prism_pruner.utils import write_xyz\n",
    "\n",
    "graph = graphize(ensemble.atomcoords[0], ensemble.atomnos)\n",
    "graph.add_edge(32, 4)"
   ]
  },
  {
   "cell_type": "code",
   "execution_count": 4,
   "id": "b22da67f",
   "metadata": {},
   "outputs": [],
   "source": [
    "from copy import deepcopy\n",
    "\n",
    "import numpy as np\n",
    "\n",
    "from prism_pruner.utils import align_structures\n",
    "\n",
    "structs = []\n",
    "for angle in (120, 240):\n",
    "    for dihedral in (\n",
    "        (2, 0, 4, 14),\n",
    "        (32, 27, 25, 23),\n",
    "    ):\n",
    "        mask = _get_rotation_mask(graph, dihedral)\n",
    "        newcoords = deepcopy(ensemble.atomcoords[0])\n",
    "        rotate_dihedral(newcoords, dihedral, angle, mask)\n",
    "        structs.append(newcoords)\n",
    "\n",
    "\n",
    "with open(\"bimol_ens.xyz\", \"w\") as f:\n",
    "    for c in align_structures(np.array(structs), np.array([4, 14, 15])):\n",
    "        write_xyz(c, ensemble.atomnos, f)"
   ]
  },
  {
   "cell_type": "code",
   "execution_count": 5,
   "id": "aeb56e6d",
   "metadata": {},
   "outputs": [
    {
     "name": "stdout",
     "output_type": "stream",
     "text": [
      "rmsd: 2.06, maxdev: 3.62\n",
      "rmsd: 1.78, maxdev: 3.20\n",
      "rmsd: 2.68, maxdev: 4.39\n"
     ]
    }
   ],
   "source": [
    "from prism_pruner.rmsd import rmsd_and_max_numba\n",
    "\n",
    "for tgt in structs[1:]:\n",
    "    rmsd, maxdev = rmsd_and_max_numba(structs[0], tgt, center=True)\n",
    "    print(f\"rmsd: {rmsd:.2f}, maxdev: {maxdev:.2f}\")"
   ]
  },
  {
   "cell_type": "code",
   "execution_count": 6,
   "id": "8c14487a",
   "metadata": {},
   "outputs": [
    {
     "name": "stdout",
     "output_type": "stream",
     "text": [
      "rmsd: 0.03, maxdev: 0.03\n",
      "rmsd: 0.03, maxdev: 0.03\n",
      "rmsd: 0.03, maxdev: 0.03\n"
     ]
    }
   ],
   "source": [
    "from prism_pruner.torsion_module import (\n",
    "    _get_hydrogen_bonds,\n",
    "    _get_torsions,\n",
    "    _is_nondummy,\n",
    "    get_angles,\n",
    "    rotationally_corrected_rmsd_and_max,\n",
    ")\n",
    "from prism_pruner.utils import get_double_bonds_indices\n",
    "\n",
    "graph.remove_edge(32, 4)\n",
    "\n",
    "hbs = _get_hydrogen_bonds(structs[0], ensemble.atomnos, graph)\n",
    "\n",
    "torsions = _get_torsions(\n",
    "    graph,\n",
    "    hydrogen_bonds=hbs,\n",
    "    double_bonds=get_double_bonds_indices(structs[0], ensemble.atomnos),\n",
    "    keepdummy=True,\n",
    "    mode=\"symmetry\",\n",
    ")\n",
    "\n",
    "# only keep dummy rotations (checking both directions)\n",
    "torsions = [\n",
    "    t\n",
    "    for t in torsions\n",
    "    if not (_is_nondummy(t.i2, t.i3, graph) and (_is_nondummy(t.i3, t.i2, graph)))\n",
    "]\n",
    "# print(f\"1: {torsions}\")\n",
    "# since we only compute RMSD based on heavy atoms, discard\n",
    "# quadruplets that involve hydrogen atoms\n",
    "torsions = [\n",
    "    t\n",
    "    for t in torsions\n",
    "    if (1 not in [ensemble.atomnos[i] for i in t.torsion])\n",
    "    or (\n",
    "        1 in [ensemble.atomnos[i] for i in t.torsion]\n",
    "        and (t.torsion[0] in hbs[0] or t.torsion[3] in hbs[0])\n",
    "    )\n",
    "]\n",
    "# print(f\"2: {torsions}\")\n",
    "# get torsions angles\n",
    "angles = [get_angles(t, graph) for t in torsions]\n",
    "\n",
    "# Used specific directionality of torsions so that we always\n",
    "# rotate the dummy portion (the one attached to the last index)\n",
    "torsions_ids = [\n",
    "    list(t.torsion) if _is_nondummy(t.i2, t.i3, graph) else list(reversed(t.torsion))\n",
    "    for t in torsions\n",
    "]\n",
    "\n",
    "for tgt in structs[1:]:\n",
    "    rmsd, maxdev = rotationally_corrected_rmsd_and_max(\n",
    "        structs[0],\n",
    "        tgt,\n",
    "        ensemble.atomnos,\n",
    "        torsions_ids,\n",
    "        graph,\n",
    "        angles,\n",
    "        #    debugfunction=print,\n",
    "    )\n",
    "    print(f\"rmsd: {rmsd:.2f}, maxdev: {maxdev:.2f}\")"
   ]
  },
  {
   "cell_type": "code",
   "execution_count": 7,
   "id": "0e9b6229",
   "metadata": {},
   "outputs": [
    {
     "data": {
      "text/plain": [
       "[[4, 32]]"
      ]
     },
     "execution_count": 7,
     "metadata": {},
     "output_type": "execute_result"
    }
   ],
   "source": [
    "hbs"
   ]
  },
  {
   "cell_type": "code",
   "execution_count": 8,
   "id": "868f0366",
   "metadata": {},
   "outputs": [
    {
     "name": "stdout",
     "output_type": "stream",
     "text": [
      "\n",
      " >> Dihedrals considered for rotamer corrections:\n",
      " 1  - [14, 4, 0, 1]         : COCC : 3-fold\n",
      " 2  - [32, 27, 25, 21]      : HOCC : 3-fold\n",
      "\n",
      "\n"
     ]
    },
    {
     "data": {
      "text/plain": [
       "(1, 33, 3)"
      ]
     },
     "execution_count": 8,
     "metadata": {},
     "output_type": "execute_result"
    }
   ],
   "source": [
    "from prism_pruner import prune_by_rmsd_rot_corr\n",
    "\n",
    "c, _ = prune_by_rmsd_rot_corr(\n",
    "    structs,\n",
    "    ensemble.atomnos,\n",
    "    graph,\n",
    "    logfunction=print,\n",
    ")\n",
    "\n",
    "c.shape"
   ]
  }
 ],
 "metadata": {
  "kernelspec": {
   "display_name": "dev",
   "language": "python",
   "name": "python3"
  },
  "language_info": {
   "codemirror_mode": {
    "name": "ipython",
    "version": 3
   },
   "file_extension": ".py",
   "mimetype": "text/x-python",
   "name": "python",
   "nbconvert_exporter": "python",
   "pygments_lexer": "ipython3",
   "version": "3.13.9"
  }
 },
 "nbformat": 4,
 "nbformat_minor": 5
}

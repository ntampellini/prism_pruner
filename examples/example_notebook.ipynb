{
 "cells": [
  {
   "cell_type": "markdown",
   "id": "638ffd44",
   "metadata": {},
   "source": [
    "The module uses numpy arrays for atomic positions and atomic numbers. You can read structures with read_xyz. The ensemble object mimics cclib and exposes the \"atomcoords\" and \"atomnos\" properties."
   ]
  },
  {
   "cell_type": "code",
   "execution_count": 1,
   "id": "0167110d",
   "metadata": {},
   "outputs": [
    {
     "data": {
      "text/plain": [
       "(1086, 136, 3)"
      ]
     },
     "execution_count": 1,
     "metadata": {},
     "output_type": "execute_result"
    }
   ],
   "source": [
    "from prism_pruner.utils import read_xyz\n",
    "\n",
    "ensemble = read_xyz(\"ensemble.xyz\")\n",
    "ensemble.atomcoords.shape"
   ]
  },
  {
   "cell_type": "markdown",
   "id": "02e9a054",
   "metadata": {},
   "source": [
    "The three main pruning functions are the following: first, the fastest, a principal moments of inertia-based mode. Similarity between two structures occurs for all three principal MOI under a relative threshold:"
   ]
  },
  {
   "cell_type": "code",
   "execution_count": null,
   "id": "31198a3f",
   "metadata": {},
   "outputs": [
    {
     "name": "stdout",
     "output_type": "stream",
     "text": [
      "DEBUG: Pruner(moi) - k=50, rejected 428 (keeping 658/1086)\n",
      "DEBUG: Pruner(moi) - k=20, rejected 116 (keeping 542/1086)\n",
      "DEBUG: Pruner(moi) - k=10, rejected 37 (keeping 505/1086)\n",
      "DEBUG: Pruner(moi) - k=5, rejected 34 (keeping 471/1086)\n",
      "DEBUG: Pruner(moi) - k=2, rejected 49 (keeping 422/1086)\n",
      "DEBUG: Pruner(moi) - k=1, rejected 15 (keeping 407/1086)\n",
      "DEBUG: prune_by_moment_of_inertia - Used cached data 105197/207415 times, 50.72% of total calls\n"
     ]
    },
    {
     "data": {
      "text/plain": [
       "(407, 136, 3)"
      ]
     },
     "execution_count": 2,
     "metadata": {},
     "output_type": "execute_result"
    }
   ],
   "source": [
    "from prism_pruner.pruner import prune_by_moment_of_inertia\n",
    "\n",
    "pruned, mask = prune_by_moment_of_inertia(\n",
    "    ensemble.atomcoords,\n",
    "    ensemble.atomnos,\n",
    "    max_deviation=0.01,  # 1% difference\n",
    "    debugfunction=print,\n",
    ")\n",
    "\n",
    "pruned.shape"
   ]
  },
  {
   "cell_type": "markdown",
   "id": "7862e029",
   "metadata": {},
   "source": [
    "Second, a classic heavy atom (non-H) RMSD. Similarity between two structures occurs for both RMSD and maximum atomic deviation (after optimal alignment) under the specified thresholds. If unspecified, the maximum deviation threshold (max_dev) is taken as 2*max_rmsd."
   ]
  },
  {
   "cell_type": "code",
   "execution_count": null,
   "id": "0a857ea0",
   "metadata": {},
   "outputs": [
    {
     "name": "stdout",
     "output_type": "stream",
     "text": [
      "DEBUG: Pruner(rmsd) - k=50, rejected 294 (keeping 792/1086)\n",
      "DEBUG: Pruner(rmsd) - k=20, rejected 120 (keeping 672/1086)\n",
      "DEBUG: Pruner(rmsd) - k=10, rejected 41 (keeping 631/1086)\n",
      "DEBUG: Pruner(rmsd) - k=5, rejected 52 (keeping 579/1086)\n",
      "DEBUG: Pruner(rmsd) - k=2, rejected 38 (keeping 541/1086)\n",
      "DEBUG: Pruner(rmsd) - k=1, rejected 10 (keeping 531/1086)\n",
      "DEBUG: prune_by_rmsd - Used cached data 159042/320757 times, 49.58% of total calls\n"
     ]
    },
    {
     "data": {
      "text/plain": [
       "(531, 136, 3)"
      ]
     },
     "execution_count": 4,
     "metadata": {},
     "output_type": "execute_result"
    }
   ],
   "source": [
    "from prism_pruner.pruner import prune_by_rmsd\n",
    "\n",
    "pruned, mask = prune_by_rmsd(\n",
    "    ensemble.atomcoords,\n",
    "    ensemble.atomnos,\n",
    "    max_rmsd=1.0,  # Will reject below 1 Å and\n",
    "    debugfunction=print,\n",
    ")\n",
    "\n",
    "pruned.shape"
   ]
  },
  {
   "cell_type": "markdown",
   "id": "d7213086",
   "metadata": {},
   "source": [
    "Lastly, another RMSD pruning implementation, this time featuring rotationally corrected results to correct for the artificially high RMSD values for rotameric structures."
   ]
  },
  {
   "cell_type": "code",
   "execution_count": null,
   "id": "dc0261ac",
   "metadata": {},
   "outputs": [
    {
     "name": "stdout",
     "output_type": "stream",
     "text": [
      "\n",
      " >> Dihedrals considered for rotamer corrections:\n",
      " 1  - [8, 10, 11, 12]       : CCCC : 2-fold\n",
      " 2  - [116, 70, 14, 13]     : CCCC : 2-fold\n",
      " 3  - [25, 26, 28, 29]      : CCCC : 3-fold\n",
      " 4  - [19, 73, 111, 113]    : CCCF : 3-fold\n",
      "\n",
      "\n",
      "DEBUG: Pruner(rmsd_rot_corr) - k=50, rejected 545 (keeping 541/1086)\n",
      "DEBUG: Pruner(rmsd_rot_corr) - k=20, rejected 118 (keeping 423/1086)\n",
      "DEBUG: Pruner(rmsd_rot_corr) - k=10, rejected 59 (keeping 364/1086)\n",
      "DEBUG: Pruner(rmsd_rot_corr) - k=5, rejected 63 (keeping 301/1086)\n",
      "DEBUG: Pruner(rmsd_rot_corr) - k=2, rejected 63 (keeping 238/1086)\n",
      "DEBUG: Pruner(rmsd_rot_corr) - k=1, rejected 18 (keeping 220/1086)\n",
      "DEBUG: prune_by_rmsd_rot_corr - Used cached data 51207/94488 times, 54.19% of total calls\n"
     ]
    },
    {
     "data": {
      "text/plain": [
       "(220, 136, 3)"
      ]
     },
     "execution_count": 3,
     "metadata": {},
     "output_type": "execute_result"
    }
   ],
   "source": [
    "from prism_pruner.graph_manipulations import graphize\n",
    "from prism_pruner.pruner import prune_by_rmsd_rot_corr\n",
    "\n",
    "graph = graphize(ensemble.atomnos, ensemble.atomcoords[0])\n",
    "\n",
    "pruned, mask = prune_by_rmsd_rot_corr(\n",
    "    ensemble.atomcoords,\n",
    "    ensemble.atomnos,\n",
    "    graph,\n",
    "    max_rmsd=1.0,\n",
    "    logfunction=print,\n",
    "    debugfunction=print,\n",
    ")\n",
    "\n",
    "pruned.shape"
   ]
  }
 ],
 "metadata": {
  "kernelspec": {
   "display_name": "dev",
   "language": "python",
   "name": "python3"
  },
  "language_info": {
   "codemirror_mode": {
    "name": "ipython",
    "version": 3
   },
   "file_extension": ".py",
   "mimetype": "text/x-python",
   "name": "python",
   "nbconvert_exporter": "python",
   "pygments_lexer": "ipython3",
   "version": "3.13.9"
  }
 },
 "nbformat": 4,
 "nbformat_minor": 5
}
